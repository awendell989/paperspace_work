{
 "cells": [
  {
   "cell_type": "markdown",
   "metadata": {},
   "source": [
    "# Import and Define"
   ]
  },
  {
   "cell_type": "code",
   "execution_count": 2,
   "metadata": {},
   "outputs": [],
   "source": [
    "#Import Packages\n",
    "\n",
    "import urllib2,json\n",
    "from bs4 import BeautifulSoup\n",
    "import pandas as pd\n",
    "from pandas.io.json import json_normalize\n",
    "import matplotlib as mpl \n",
    "import matplotlib.pyplot as plt \n",
    "import socket\n",
    "import httplib\n",
    "import numpy as np\n",
    "import math\n",
    "import pymc3 as pm\n",
    "import theano.tensor as T\n",
    "from datetime import timedelta \n",
    "from pandasql import sqldf\n",
    "pysqldf = lambda q: sqldf(q, globals())"
   ]
  },
  {
   "cell_type": "code",
   "execution_count": 3,
   "metadata": {},
   "outputs": [],
   "source": [
    "#Import Sklearn\n",
    "\n",
    "from sklearn import preprocessing\n",
    "from sklearn import model_selection\n",
    "from sklearn import linear_model"
   ]
  },
  {
   "cell_type": "code",
   "execution_count": 4,
   "metadata": {},
   "outputs": [],
   "source": [
    "#Hyponetuse = Distnace of Shot\n",
    "\n",
    "def distance(x1, y1,x2,y2):\n",
    "    return math.sqrt((x1 - x2)**2 + (y1 - y2)**2)"
   ]
  },
  {
   "cell_type": "markdown",
   "metadata": {},
   "source": [
    "# Get the Data"
   ]
  },
  {
   "cell_type": "code",
   "execution_count": 5,
   "metadata": {},
   "outputs": [],
   "source": [
    "#GET All Dates and Game Information --- GET GAME IDS\n",
    "\n",
    "request = urllib2.Request('https://statsapi.web.nhl.com/api/v1/schedule?startDate=2017-12-02&endDate=2018-01-30')\n",
    "response = urllib2.urlopen(request)\n",
    "json_load = json.loads(response.read())\n",
    "#json_normalize(json_load['dates'])\n",
    "games_dates = json_normalize(data=json_load['dates'], record_path=['games'], meta=['id'],errors='ignore') #SO FUCKING HELPUFL #https://www.kaggle.com/jboysen/quick-tutorial-flatten-nested-json-in-pandas\n",
    "gamesids = games_dates[games_dates['gameType'] == 'R']['gamePk'] #Only Regular Season\n",
    "gamesids.reset_index(inplace = True,drop = True)"
   ]
  },
  {
   "cell_type": "code",
   "execution_count": 6,
   "metadata": {},
   "outputs": [],
   "source": [
    "#GET Plays Broken Out\n",
    "\n",
    "for x in range(len(gamesids)):\n",
    "    gameid = gamesids[x]\n",
    "    url_start = 'https://statsapi.web.nhl.com/api/v1/game/'\n",
    "    url_end = '/feed/live'\n",
    "    full_url = url_start + str(gameid) + url_end\n",
    "    request = urllib2.Request(full_url)\n",
    "    response = urllib2.urlopen(request)\n",
    "    json_load = json.loads(response.read())\n",
    "    if 'Total_Plays' in globals():\n",
    "        Plays = json_normalize(data=json_load['liveData']['plays']['allPlays'])\n",
    "        Plays ['gameid'] = gameid\n",
    "        frames = [Total_Plays,Plays]\n",
    "        Total_Plays = pd.concat(frames)\n",
    "    else:\n",
    "        Total_Plays = json_normalize(data=json_load['liveData']['plays']['allPlays'])\n",
    "        Total_Plays['gameid'] = gameid"
   ]
  },
  {
   "cell_type": "markdown",
   "metadata": {},
   "source": [
    "# Total Plays Data"
   ]
  },
  {
   "cell_type": "code",
   "execution_count": 7,
   "metadata": {},
   "outputs": [],
   "source": [
    "#Previous Play --- You still have not controlled for a bunch of shit but it should be fine given when shots and goals occur\n",
    "\n",
    "Total_Plays.sort_values(by = ['gameid','about.eventIdx'], axis=0, ascending=True,inplace = True)\n",
    "Total_Plays['Previous_Play_Game'] = Total_Plays['gameid'].shift()\n",
    "Total_Plays['Previous_Play'] = np.where(Total_Plays['Previous_Play_Game'] != Total_Plays['gameid'],np.nan,Total_Plays['result.event'].shift())\n",
    "\n",
    "#Time Shifts \n",
    "\n",
    "Total_Plays['about.dateTime'] = Total_Plays['about.dateTime'].astype(str)\n",
    "Total_Plays['about.dateTime'] = Total_Plays.apply(lambda x: x['about.dateTime'].replace('Z','').replace('T',' '),axis =1)\n",
    "Total_Plays['about.dateTime'] = pd.to_datetime(Total_Plays['about.dateTime'])\n",
    "Total_Plays['Previous_Play_Time'] = Total_Plays['about.dateTime'].shift()\n",
    "#Total_Plays['Previous_Play_Time'] = Total_Plays['Previous_Play_Time'].astype(str)\n",
    "#Total_Plays['Previous_Play_Time'] = Total_Plays.apply(lambda x: x['Previous_Play_Time'].replace('Z','').replace('T',' '),axis =1)\n",
    "#Total_Plays['Previous_Play_Time'] = pd.to_datetime(Total_Plays['Previous_Play_Time'])\n",
    "#Total_Plays['Time_Difference'] = Total_Plays['about.dateTime']-Total_Plays['Previous_Play_Time']\n",
    "Total_Plays['Time_Difference'] = Total_Plays.apply(lambda r: (r['about.dateTime'] - r['Previous_Play_Time']).total_seconds(),axis = 1)"
   ]
  },
  {
   "cell_type": "code",
   "execution_count": 8,
   "metadata": {},
   "outputs": [],
   "source": [
    "#Only Full Strength Moments -- Step 1\n",
    "\n",
    "Total_Plays['Game_Time_Clock'] = (((Total_Plays['about.period'] - 1) * 20) * 60) + (Total_Plays['about.periodTime'].str.split(':').str[0].astype(float) * 60) + Total_Plays['about.periodTime'].str.split(':').str[1].astype(float)\n",
    "Total_Plays['Penalty_Time'] = np.where(Total_Plays['result.event']  == 'Penalty',Total_Plays['Game_Time_Clock'] + (Total_Plays['result.penaltyMinutes'] * 60),0)\n",
    "Penalty_Plays = Total_Plays[['gameid','Game_Time_Clock','Penalty_Time']][Total_Plays['Penalty_Time'] != 0]\n",
    "Penalty_Plays.reset_index(inplace = True,drop = True)"
   ]
  },
  {
   "cell_type": "code",
   "execution_count": 9,
   "metadata": {},
   "outputs": [],
   "source": [
    "#Define Shot Plays we want Plays\n",
    "        \n",
    "Shot_Plays_List = ['SHOT','GOAL']\n",
    "Total_Plays['Shot_Play_B'] = np.where(Total_Plays['result.eventTypeId'].isin(Shot_Plays_List),1,0)\n",
    "Total_Plays['Goal_B'] = np.where(Total_Plays['result.eventTypeId'] == 'GOAL',1,0) \n",
    "Shot_Plays = Total_Plays[Total_Plays['result.eventTypeId'].isin(Shot_Plays_List)]\n",
    "Shot_Plays.reset_index(inplace = True, drop = True)"
   ]
  },
  {
   "cell_type": "code",
   "execution_count": 10,
   "metadata": {},
   "outputs": [],
   "source": [
    "#Get Rid of Penalties -- Step 2\n",
    "\n",
    "for i in Penalty_Plays.index:\n",
    "    gameId_penalty = Penalty_Plays['gameid'][i]\n",
    "    Penalty_Start = Penalty_Plays['Game_Time_Clock'][i]\n",
    "    Penalty_End = Penalty_Plays['Penalty_Time'][i]\n",
    "    Shot_Plays = Shot_Plays[~Shot_Plays.index.isin(Shot_Plays[(Shot_Plays['gameid'] == gameId_penalty) & (Shot_Plays['Game_Time_Clock'] >= Penalty_Start) & (Shot_Plays['Game_Time_Clock'] <= Penalty_End)].index)]"
   ]
  },
  {
   "cell_type": "markdown",
   "metadata": {},
   "source": [
    "# Shot Plays"
   ]
  },
  {
   "cell_type": "code",
   "execution_count": 11,
   "metadata": {},
   "outputs": [],
   "source": [
    "#Get THe Goal coordiantes\n",
    "\n",
    "Goal1CoordinateX1 = 89\n",
    "Goal1CoordinatePP = 3\n",
    "Goal1CoordinateNP = -3\n",
    "Goal1CoordinateCG = 0"
   ]
  },
  {
   "cell_type": "code",
   "execution_count": 12,
   "metadata": {},
   "outputs": [
    {
     "data": {
      "text/plain": [
       "[<matplotlib.lines.Line2D at 0x7f133225f910>]"
      ]
     },
     "execution_count": 12,
     "metadata": {},
     "output_type": "execute_result"
    },
    {
     "data": {
      "image/png": "[encoded data removed]",
      "text/plain": [
       "<Figure size 432x288 with 1 Axes>"
      ]
     },
     "metadata": {},
     "output_type": "display_data"
    }
   ],
   "source": [
    "#Flip the Signs --- Because it Needs to be on One Side\n",
    "\n",
    "Shot_Plays['coordinates.y'] = np.where(Shot_Plays['coordinates.x'] < 0 ,Shot_Plays['coordinates.y'] * -1,Shot_Plays['coordinates.y'])\n",
    "Shot_Plays['coordinates.x'] = np.where(Shot_Plays['coordinates.x'] < 0 ,Shot_Plays['coordinates.x'] * -1,Shot_Plays['coordinates.x'])\n",
    "#Shot_Plays = Shot_Plays[Shot_Plays['coordinates.x'] != 89]\n",
    "#Shot_Plays = Shot_Plays[Shot_Plays['coordinates.y'] != 0] #Get Rid of Things that just wont work. \n",
    "plt.plot(Shot_Plays['coordinates.x'],Shot_Plays['coordinates.y'],'ro')"
   ]
  },
  {
   "cell_type": "code",
   "execution_count": 13,
   "metadata": {},
   "outputs": [
    {
     "data": {
      "text/html": [
       "<div>\n",
       "<style scoped>\n",
       "    .dataframe tbody tr th:only-of-type {\n",
       "        vertical-align: middle;\n",
       "    }\n",
       "\n",
       "    .dataframe tbody tr th {\n",
       "        vertical-align: top;\n",
       "    }\n",
       "\n",
       "    .dataframe thead th {\n",
       "        text-align: right;\n",
       "    }\n",
       "</style>\n",
       "<table border=\"1\" class=\"dataframe\">\n",
       "  <thead>\n",
       "    <tr style=\"text-align: right;\">\n",
       "      <th></th>\n",
       "      <th>Horizontal_Distance</th>\n",
       "      <th>coordinates.y</th>\n",
       "      <th>Distance_To_Goal</th>\n",
       "    </tr>\n",
       "  </thead>\n",
       "  <tbody>\n",
       "    <tr>\n",
       "      <th>0</th>\n",
       "      <td>60.0</td>\n",
       "      <td>27.0</td>\n",
       "      <td>65.795137</td>\n",
       "    </tr>\n",
       "    <tr>\n",
       "      <th>4</th>\n",
       "      <td>33.0</td>\n",
       "      <td>31.0</td>\n",
       "      <td>45.276926</td>\n",
       "    </tr>\n",
       "    <tr>\n",
       "      <th>5</th>\n",
       "      <td>8.0</td>\n",
       "      <td>2.0</td>\n",
       "      <td>8.246211</td>\n",
       "    </tr>\n",
       "    <tr>\n",
       "      <th>6</th>\n",
       "      <td>29.0</td>\n",
       "      <td>-29.0</td>\n",
       "      <td>41.012193</td>\n",
       "    </tr>\n",
       "    <tr>\n",
       "      <th>7</th>\n",
       "      <td>19.0</td>\n",
       "      <td>-39.0</td>\n",
       "      <td>43.382024</td>\n",
       "    </tr>\n",
       "    <tr>\n",
       "      <th>8</th>\n",
       "      <td>58.0</td>\n",
       "      <td>32.0</td>\n",
       "      <td>66.241981</td>\n",
       "    </tr>\n",
       "    <tr>\n",
       "      <th>9</th>\n",
       "      <td>36.0</td>\n",
       "      <td>33.0</td>\n",
       "      <td>48.836462</td>\n",
       "    </tr>\n",
       "    <tr>\n",
       "      <th>10</th>\n",
       "      <td>12.0</td>\n",
       "      <td>27.0</td>\n",
       "      <td>29.546573</td>\n",
       "    </tr>\n",
       "    <tr>\n",
       "      <th>11</th>\n",
       "      <td>37.0</td>\n",
       "      <td>-18.0</td>\n",
       "      <td>41.146081</td>\n",
       "    </tr>\n",
       "    <tr>\n",
       "      <th>17</th>\n",
       "      <td>11.0</td>\n",
       "      <td>1.0</td>\n",
       "      <td>11.045361</td>\n",
       "    </tr>\n",
       "  </tbody>\n",
       "</table>\n",
       "</div>"
      ],
      "text/plain": [
       "    Horizontal_Distance  coordinates.y  Distance_To_Goal\n",
       "0                  60.0           27.0         65.795137\n",
       "4                  33.0           31.0         45.276926\n",
       "5                   8.0            2.0          8.246211\n",
       "6                  29.0          -29.0         41.012193\n",
       "7                  19.0          -39.0         43.382024\n",
       "8                  58.0           32.0         66.241981\n",
       "9                  36.0           33.0         48.836462\n",
       "10                 12.0           27.0         29.546573\n",
       "11                 37.0          -18.0         41.146081\n",
       "17                 11.0            1.0         11.045361"
      ]
     },
     "execution_count": 13,
     "metadata": {},
     "output_type": "execute_result"
    }
   ],
   "source": [
    "#Distances\n",
    "\n",
    "Shot_Plays['Horizontal_Distance'] = Shot_Plays.apply(lambda x: Goal1CoordinateX1 - x['coordinates.x'],axis =1)\n",
    "Shot_Plays['Vertical_Distance'] = Shot_Plays.apply(lambda x: abs(x['coordinates.y']),axis =1)\n",
    "Shot_Plays['Distance_To_Goal'] = Shot_Plays.apply(lambda x: math.hypot(x['Horizontal_Distance'],x['coordinates.y']),axis =1)\n",
    "#Shot_Plays['Distance_To_Goal'] = Shot_Plays.apply(lambda x: math.hypot(Goal1CoordinateX1 - x['coordinates.x'],x['coordinates.y']),axis =1)\n",
    "Shot_Plays['Shot_Distance_NP'] = Shot_Plays.apply(lambda x: distance(x['coordinates.x'],x['coordinates.y'],Goal1CoordinateX1,Goal1CoordinateNP),axis = 1)\n",
    "Shot_Plays['Shot_Distance_PP'] = Shot_Plays.apply(lambda x: distance(x['coordinates.x'],x['coordinates.y'],Goal1CoordinateX1,Goal1CoordinatePP),axis = 1)\n",
    "Shot_Plays[['Horizontal_Distance','coordinates.y','Distance_To_Goal']].head(10)"
   ]
  },
  {
   "cell_type": "code",
   "execution_count": 14,
   "metadata": {},
   "outputs": [],
   "source": [
    "#Angles\n",
    "\n",
    "Shot_Plays['Shot_Angle'] = Shot_Plays.apply(lambda row: abs(math.degrees(math.asin(row['coordinates.y']/row['Distance_To_Goal']))) if row['Distance_To_Goal'] > 0 else 180,axis = 1)\n"
   ]
  },
  {
   "cell_type": "markdown",
   "metadata": {},
   "source": [
    "# Hierachal Models Begin"
   ]
  },
  {
   "cell_type": "code",
   "execution_count": 15,
   "metadata": {},
   "outputs": [],
   "source": [
    "#Blocked SHots -- THis is Solved Before\n",
    "\n",
    "#Blocked_Shots = Shot_Plays[['Blocked_Boolean','Shot_Angle','Vertical_Distance','Horizontal_Distance','Distance_To_Goal']]\n",
    "#Blocked_Shots = Blocked_Shots[~Blocked_Shots.isin([np.nan, np.inf, -np.inf]).any(1)]\n",
    "Successful_Shots = Shot_Plays[['Goal_B','Previous_Play','result.secondaryType','Shot_Angle','Distance_To_Goal']]#[Shot_Plays['Blocked_Boolean'] == 0]\n"
   ]
  },
  {
   "cell_type": "code",
   "execution_count": 16,
   "metadata": {},
   "outputs": [],
   "source": [
    "#Start Creating Hierachy\n",
    "\n",
    "one = 'result.secondaryType'\n",
    "one_names_df = Successful_Shots.groupby(one).all()\n",
    "names_one  = list()\n",
    "one_index = Successful_Shots.groupby(one).all().reset_index().reset_index()[['index',one]]\n",
    "one_index.rename(columns={'index':'index_one'}, inplace=True)\n",
    "one_indexes = one_index['index_one'].values #For Model\n",
    "one_count = len(one_indexes) #For Model\n",
    "\n",
    "#Index Two\n",
    "\n",
    "two = 'Previous_Play'\n",
    "two_names_df = Successful_Shots.groupby([one,two]).all()\n",
    "names_two = list(two_names_df.index)\n",
    "two_index = Successful_Shots.groupby([one,two]).all().reset_index().reset_index()[['index',one,two]]\n",
    "two_index.rename(columns={'index':'index_two'},inplace = True)\n",
    "two_indexes_df = pd.merge(one_index, two_index, how='inner', on= one)\n",
    "two_indexes = two_indexes_df['index_one'].values #For Model\n",
    "two_count = len(two_indexes) #For Model\n",
    "\n",
    "#Combine to Existing\n",
    "\n",
    "Indexed_Successful_Shot_DF = pd.merge(Successful_Shots, two_indexes_df, how='inner', on=[one,two]).reset_index()"
   ]
  },
  {
   "cell_type": "code",
   "execution_count": 17,
   "metadata": {},
   "outputs": [],
   "source": [
    "#Model Preminents\n",
    "\n",
    "observed = Indexed_Successful_Shot_DF['Goal_B']\n",
    "Shot_Type_Index = Indexed_Successful_Shot_DF['index_one']\n",
    "N = len(np.unique(Indexed_Successful_Shot_DF['index_one']))\n",
    "Number_of_Samples = 50000"
   ]
  },
  {
   "cell_type": "code",
   "execution_count": null,
   "metadata": {},
   "outputs": [
    {
     "name": "stderr",
     "output_type": "stream",
     "text": [
      "logp = -5,306.9, ||grad|| = 14.112: 100%|██████████| 457/457 [00:02<00:00, 183.62it/s] \n",
      "Multiprocess sampling (2 chains in 2 jobs)\n",
      "CompoundStep\n",
      ">Metropolis: [b]\n",
      ">Metropolis: [a]\n",
      " 22%|██▏       | 10916/50500 [02:27<08:55, 73.97it/s]"
     ]
    }
   ],
   "source": [
    "#First Model\n",
    "\n",
    "with pm.Model() as Unpooled_One_Level_One_Variable:\n",
    "\n",
    "    # Independent parameters for each county\n",
    "    a = pm.Normal('a', 0, sd=100, shape=N) #Intercept\n",
    "    b = pm.Normal('b', 0, sd=100, shape=N) #Coefficient for Shot Type\n",
    "\n",
    "    # Model error\n",
    "    # Calculate predictions given values\n",
    "    # for intercept and slope (Comment 4)\n",
    "    yhat = pm.invlogit(a[Shot_Type_Index] + b[Shot_Type_Index] * Indexed_Successful_Shot_DF.Shot_Angle.values)\n",
    " \n",
    "    # Make predictions fit reality\n",
    "    y = pm.Binomial('y', n=np.ones(Indexed_Successful_Shot_DF.shape[0]), p=yhat, observed= observed)\n",
    "    \n",
    "    #Run It\n",
    "    \n",
    "    start = pm.find_MAP()\n",
    "    step = pm.Metropolis()\n",
    "    trace_h = pm.sample(Number_of_Samples, step = step, start = start,njobs = 2)"
   ]
  },
  {
   "cell_type": "code",
   "execution_count": null,
   "metadata": {},
   "outputs": [],
   "source": [
    "#Print Stuff\n",
    "    \n",
    "burnin = int(Number_of_Samples * .5) #Remove a number of samples from the beginning of the trace. This is know as burn-in. MCMC methods often take some time until we start getting samples from the target distribution. The burn-in will not be necessary for an infinite sample, as it is not part of the Markovian theory. Instead, removing the first samples is an ad hoc trick to get better results given that we are getting a finite sample.\n",
    "chain = trace_h[burnin:] \n",
    "pm.traceplot(chain)"
   ]
  },
  {
   "cell_type": "code",
   "execution_count": null,
   "metadata": {},
   "outputs": [],
   "source": [
    "with pm.Model() as Pooled_One_Level_One_Variable:\n",
    "    #Hyper Prior\n",
    "    \n",
    "    mu_a = pm.StudentT('mu_a', nu=3, mu=0., sd=1.0) \n",
    "    sigma_a = pm.HalfNormal('sigma_a', sd=1.0)\n",
    "    mu_b = pm.StudentT('mu_b', nu=3, mu=0., sd=1.0)\n",
    "    sigma_b = pm.HalfNormal('sigma_b', sd=1.0)\n",
    "    \n",
    "    \n",
    "    # Independent parameters for each Shot Type\n",
    "    a = pm.Normal('a',  mu = mu_a, sd=sigma_a, shape=N) #Intercept\n",
    "    b = pm.Normal('b', mu = mu_b, sd=sigma_b, shape=N) #Coefficient for Shot Type\n",
    "\n",
    "    # Model error\n",
    "    # Calculate predictions given values\n",
    "    # for intercept and slope (Comment 4)\n",
    "    yhat = pm.invlogit(a[Shot_Type_Index] + b[Shot_Type_Index] * Indexed_Successful_Shot_DF.Shot_Angle.values)\n",
    " \n",
    "    # Make predictions fit reality\n",
    "    y = pm.Binomial('y', n=np.ones(Indexed_Successful_Shot_DF.shape[0]), p=yhat, observed= observed)\n",
    "    \n",
    "    #Run It\n",
    "    \n",
    "    start = pm.find_MAP()\n",
    "    step = pm.Metropolis()\n",
    "    trace_h = pm.sample(Number_of_Samples, step = step, start = start,njobs = 1)"
   ]
  },
  {
   "cell_type": "code",
   "execution_count": null,
   "metadata": {},
   "outputs": [],
   "source": [
    "#Print Stuff\n",
    "    \n",
    "burnin = int(Number_of_Samples * .5) #Remove a number of samples from the beginning of the trace. This is know as burn-in. MCMC methods often take some time until we start getting samples from the target distribution. The burn-in will not be necessary for an infinite sample, as it is not part of the Markovian theory. Instead, removing the first samples is an ad hoc trick to get better results given that we are getting a finite sample.\n",
    "chain = trace_h[burnin:] \n",
    "pm.traceplot(chain)"
   ]
  },
  {
   "cell_type": "code",
   "execution_count": null,
   "metadata": {},
   "outputs": [],
   "source": [
    "with pm.Model() as Pooled_One_Level_Two_Variable:\n",
    "    #Hyper Prior\n",
    "    \n",
    "    mu_a = pm.StudentT('mu_a', nu=3, mu=0., sd=1.0) \n",
    "    sigma_a = pm.HalfNormal('sigma_a', sd=1.0)\n",
    "    mu_b = pm.StudentT('mu_b', nu=3, mu=0., sd=1.0)\n",
    "    sigma_b = pm.HalfNormal('sigma_b', sd=1.0)\n",
    "    mu_c = pm.StudentT('mu_b', nu=3, mu=0., sd=1.0)\n",
    "    sigma_c = pm.HalfNormal('sigma_b', sd=1.0)\n",
    "    \n",
    "    # Independent parameters for each Shot Type\n",
    "    intercept = pm.Normal('intercept',  mu = mu_a, sd=sigma_a, shape=N) #Intercept\n",
    "    angle = pm.Normal('angle', mu = mu_b, sd=sigma_b, shape=N) #Coefficient for Shot Type\n",
    "    distnace = pm.Normal('distnace', mu = mu_c, sd=sigma_c, shape=N) #Coefficient for Shot Type\n",
    "    \n",
    "    # Model error\n",
    "    # Calculate predictions given values\n",
    "    # for intercept and slope (Comment 4)\n",
    "    yhat = pm.invlogit(intercept[Shot_Type_Index] + (Indexed_Successful_Shot_DF.Distance_To_Goal.values * distance[Shot_Type_Index]) + (angle[Shot_Type_Index] * Indexed_Successful_Shot_DF.Shot_Angle.values))\n",
    " \n",
    "    # Make predictions fit reality\n",
    "    y = pm.Binomial('y', n=np.ones(Indexed_Successful_Shot_DF.shape[0]), p=yhat, observed= observed)\n",
    "    \n",
    "    #Run It\n",
    "    \n",
    "    start = pm.find_MAP()\n",
    "    step = pm.Metropolis()\n",
    "    trace_h = pm.sample(Number_of_Samples, step = step, start = start,njobs = 1)"
   ]
  }
 ],
 "metadata": {
  "kernelspec": {
   "display_name": "Python 2",
   "language": "python",
   "name": "python2"
  },
  "language_info": {
   "codemirror_mode": {
    "name": "ipython",
    "version": 2
   },
   "file_extension": ".py",
   "mimetype": "text/x-python",
   "name": "python",
   "nbconvert_exporter": "python",
   "pygments_lexer": "ipython2",
   "version": "2.7.14"
  }
 },
 "nbformat": 4,
 "nbformat_minor": 2
}
